{
 "cells": [
  {
   "cell_type": "code",
   "execution_count": 13,
   "id": "79fb8127-d929-4a67-b2c3-11ab9c6979cd",
   "metadata": {},
   "outputs": [
    {
     "name": "stdout",
     "output_type": "stream",
     "text": [
      "0 0 0 0 0 0 1 1 1 1 2 2 2 2 2 "
     ]
    }
   ],
   "source": [
    "class Solution:\n",
    "    \n",
    "    def sort012(self, arr):\n",
    "        self.arr = arr\n",
    "        length = len(self.arr)\n",
    "        low = 0\n",
    "        high = length - 1\n",
    "        mid = 0\n",
    "\n",
    "        while mid <= high:\n",
    "            if self.arr[mid] == 0:\n",
    "                self.arr[low], self.arr[mid] = self.arr[mid], self.arr[low]\n",
    "                low = low + 1\n",
    "                mid = mid + 1\n",
    "            elif self.arr[mid] == 1:\n",
    "                mid = mid + 1\n",
    "            else:\n",
    "                self.arr[mid], self.arr[high] = self.arr[high], self.arr[mid]\n",
    "                high = high - 1\n",
    "        return self.arr\n",
    "\n",
    "sortedArray = Solution()\n",
    "sortedArray = sortedArray.sort012([0, 1, 1, 0, 2, 0, 0 , 1, 2, 2, 0, 2, 0, 1, 2])\n",
    "for x in sortedArray:\n",
    "    print(x, end=\" \")\n"
   ]
  },
  {
   "cell_type": "code",
   "execution_count": 27,
   "id": "bbb12f40-9965-4409-9341-4d4bbfe18505",
   "metadata": {},
   "outputs": [
    {
     "name": "stdout",
     "output_type": "stream",
     "text": [
      "4 is found at postion 3\n",
      "7 was not found in the array\n"
     ]
    }
   ],
   "source": [
    "class Solution:\n",
    "\n",
    "    def binarySearch(self, arr, k):\n",
    "        self.arr = arr\n",
    "        self.k = k\n",
    "        left = 0\n",
    "        right = len(self.arr) - 1\n",
    "        result = -1\n",
    "\n",
    "        while left <= right:\n",
    "            mid = left + (right - left)\n",
    "            if self.arr[mid] == self.k:\n",
    "                result = mid\n",
    "                right = mid - 1\n",
    "            elif self.arr[mid] < k:\n",
    "                left = mid + 1\n",
    "            else:\n",
    "                right = mid -1\n",
    "        return result\n",
    "        \n",
    "\n",
    "\n",
    "\n",
    "binaryArray = Solution()\n",
    "pos = binaryArray.binarySearch([1, 2, 3, 4, 5, 4], 4) \n",
    "if pos >= 0:\n",
    "    print(f\"{binaryArray.k} is found at postion {pos}\")\n",
    "else:\n",
    "    print(f\"{binaryArray.k} was not found in the array\")\n",
    "\n",
    "binaryArrayDup = Solution()\n",
    "pos2 = binaryArrayDup.binarySearch([1,2,3,4,5,6], 7)\n",
    "if pos2 >= 0:\n",
    "    print(f\"{binaryArrayDup.k} is found at postion {pos2}\")\n",
    "else:\n",
    "    print(f\"{binaryArrayDup.k} was not found in the array\")\n"
   ]
  },
  {
   "cell_type": "code",
   "execution_count": null,
   "id": "c4054f47-6116-46fd-a758-9308618c3dc1",
   "metadata": {},
   "outputs": [],
   "source": []
  },
  {
   "cell_type": "code",
   "execution_count": null,
   "id": "761f6f17-ca61-4cc6-b20e-90be016702b3",
   "metadata": {},
   "outputs": [],
   "source": []
  }
 ],
 "metadata": {
  "kernelspec": {
   "display_name": "Python [conda env:base] *",
   "language": "python",
   "name": "conda-base-py"
  },
  "language_info": {
   "codemirror_mode": {
    "name": "ipython",
    "version": 3
   },
   "file_extension": ".py",
   "mimetype": "text/x-python",
   "name": "python",
   "nbconvert_exporter": "python",
   "pygments_lexer": "ipython3",
   "version": "3.12.7"
  }
 },
 "nbformat": 4,
 "nbformat_minor": 5
}
