{
 "cells": [
  {
   "cell_type": "code",
   "execution_count": 2,
   "id": "60456a36-ca56-46a8-b798-231678012f9e",
   "metadata": {},
   "outputs": [
    {
     "ename": "AssertionError",
     "evalue": "",
     "output_type": "error",
     "traceback": [
      "\u001b[0;31m---------------------------------------------------------------------------\u001b[0m",
      "\u001b[0;31mAssertionError\u001b[0m                            Traceback (most recent call last)",
      "Cell \u001b[0;32mIn[2], line 1\u001b[0m\n\u001b[0;32m----> 1\u001b[0m \u001b[38;5;28;01massert\u001b[39;00m \u001b[38;5;28msum\u001b[39m([\u001b[38;5;241m1\u001b[39m, \u001b[38;5;241m1\u001b[39m, \u001b[38;5;241m1\u001b[39m]) \u001b[38;5;241m==\u001b[39m \u001b[38;5;241m6\u001b[39m\n",
      "\u001b[0;31mAssertionError\u001b[0m: "
     ]
    }
   ],
   "source": [
    "assert sum([1, 1, 1]) == 6"
   ]
  },
  {
   "cell_type": "code",
   "execution_count": null,
   "id": "6f1723a7-9d25-4dde-bab2-4948c1813d46",
   "metadata": {},
   "outputs": [],
   "source": [
    "\"\"\"\n",
    "When the tests were successful, the number of test ran was displayed.  This means that the two values passed to the assert \n",
    "method were equal to one another.\n",
    "When test_list_fraction was added, 2 tests were ran and 1 failed.  The failed test failed with an AssertionError.  \n",
    "This meant that the first value passed to the assertEqual method was not equal to the second value passed to the \n",
    "assertEqual method.\n",
    "\n",
    "\"\"\""
   ]
  }
 ],
 "metadata": {
  "kernelspec": {
   "display_name": "Python [conda env:base] *",
   "language": "python",
   "name": "conda-base-py"
  },
  "language_info": {
   "codemirror_mode": {
    "name": "ipython",
    "version": 3
   },
   "file_extension": ".py",
   "mimetype": "text/x-python",
   "name": "python",
   "nbconvert_exporter": "python",
   "pygments_lexer": "ipython3",
   "version": "3.12.7"
  }
 },
 "nbformat": 4,
 "nbformat_minor": 5
}
