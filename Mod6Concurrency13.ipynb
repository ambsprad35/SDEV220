{
 "cells": [
  {
   "cell_type": "code",
   "execution_count": 6,
   "id": "8e031094-3e39-4a51-8034-63a537bd9301",
   "metadata": {},
   "outputs": [],
   "source": [
    "\"13.1\"\n",
    "from datetime import date\n",
    "fmt = '%Y-%m-%d'\n",
    "now = date.today()\n",
    "fout = open('today', 'wt')\n",
    "fout.write(now.strftime(fmt))\n",
    "fout.close()"
   ]
  },
  {
   "cell_type": "code",
   "execution_count": 8,
   "id": "c5f9cfed-c890-4739-93ee-0d61cb2f7453",
   "metadata": {},
   "outputs": [
    {
     "name": "stdout",
     "output_type": "stream",
     "text": [
      "time.struct_time(tm_year=2025, tm_mon=2, tm_mday=22, tm_hour=0, tm_min=0, tm_sec=0, tm_wday=5, tm_yday=53, tm_isdst=-1)\n"
     ]
    }
   ],
   "source": [
    "\"13.2 & 13.3\"\n",
    "from datetime import date\n",
    "import time\n",
    "fin = open('today', 'rt')\n",
    "today_string = fin.read()\n",
    "fin.close()\n",
    "fmt='%Y-%m-%d'\n",
    "print(time.strptime(today_string, fmt))\n"
   ]
  },
  {
   "cell_type": "code",
   "execution_count": 20,
   "id": "afe0cdb9-b99c-42f5-93c2-196d5c6ae1b7",
   "metadata": {
    "jupyter": {
     "source_hidden": true
    }
   },
   "outputs": [
    {
     "name": "stderr",
     "output_type": "stream",
     "text": [
      "Traceback (most recent call last):\n",
      "  File \"<string>\", line 1, in <module>\n",
      "  File \"/opt/anaconda3/lib/python3.12/multiprocessing/spawn.py\", line 122, in spawn_main\n",
      "    exitcode = _main(fd, parent_sentinel)\n",
      "               ^^^^^^^^^^^^^^^^^^^^^^^^^^\n",
      "  File \"/opt/anaconda3/lib/python3.12/multiprocessing/spawn.py\", line 132, in _main\n",
      "    self = reduction.pickle.load(from_parent)\n",
      "           ^^^^^^^^^^^^^^^^^^^^^^^^^^^^^^^^^^\n",
      "AttributeError: Can't get attribute 'timeProcess' on <module '__main__' (<class '_frozen_importlib.BuiltinImporter'>)>\n",
      "Traceback (most recent call last):\n",
      "  File \"<string>\", line 1, in <module>\n",
      "  File \"/opt/anaconda3/lib/python3.12/multiprocessing/spawn.py\", line 122, in spawn_main\n",
      "    exitcode = _main(fd, parent_sentinel)\n",
      "               ^^^^^^^^^^^^^^^^^^^^^^^^^^\n",
      "  File \"/opt/anaconda3/lib/python3.12/multiprocessing/spawn.py\", line 132, in _main\n",
      "    self = reduction.pickle.load(from_parent)\n",
      "           ^^^^^^^^^^^^^^^^^^^^^^^^^^^^^^^^^^\n",
      "AttributeError: Can't get attribute 'timeProcess' on <module '__main__' (<class '_frozen_importlib.BuiltinImporter'>)>\n"
     ]
    }
   ],
   "source": [
    "'15.1'\n",
    "import time\n",
    "import os\n",
    "import multiprocessing\n",
    "import random\n",
    "\n",
    "def timeProcess(self, *args):\n",
    "    print(*args)\n",
    "  \n",
    "\n",
    "if __name__ == \"__main__\":\n",
    "    now = time.time()   \n",
    "    for n in range(3):\n",
    "        randNum = random.random()\n",
    "        p = multiprocessing.Process(target=timeProcess, args=(time.ctime(now)))\n",
    "        time.sleep(randNum)\n",
    "        p.start()\n",
    "\n",
    "    "
   ]
  },
  {
   "cell_type": "code",
   "execution_count": null,
   "id": "8f780cce-5d9f-4f6d-95bf-1a01c76c5c20",
   "metadata": {},
   "outputs": [],
   "source": []
  }
 ],
 "metadata": {
  "kernelspec": {
   "display_name": "Python [conda env:base] *",
   "language": "python",
   "name": "conda-base-py"
  },
  "language_info": {
   "codemirror_mode": {
    "name": "ipython",
    "version": 3
   },
   "file_extension": ".py",
   "mimetype": "text/x-python",
   "name": "python",
   "nbconvert_exporter": "python",
   "pygments_lexer": "ipython3",
   "version": "3.12.7"
  }
 },
 "nbformat": 4,
 "nbformat_minor": 5
}
