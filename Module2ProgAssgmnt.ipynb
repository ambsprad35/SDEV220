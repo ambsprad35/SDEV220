{
 "cells": [
  {
   "cell_type": "code",
   "execution_count": 6,
   "id": "c0d0a4e8-06e0-4103-9558-4b28bb5266a4",
   "metadata": {},
   "outputs": [
    {
     "name": "stdout",
     "output_type": "stream",
     "text": [
      "too low\n"
     ]
    }
   ],
   "source": [
    "# 4.1\n",
    "secret = 8\n",
    "guess = 5\n",
    "if (guess < secret):\n",
    "    print(\"too low\")\n",
    "elif (guess > secret):\n",
    "    print(\"too high\")\n",
    "else:\n",
    "    print(\"just right\")"
   ]
  },
  {
   "cell_type": "code",
   "execution_count": 12,
   "id": "81439d6d-0045-45fe-a191-ad9ae62a64ec",
   "metadata": {},
   "outputs": [
    {
     "name": "stdout",
     "output_type": "stream",
     "text": [
      "It's a watermelon.\n"
     ]
    }
   ],
   "source": [
    "# 4.2\n",
    "small = False\n",
    "green = True\n",
    "\n",
    "if small:\n",
    "    if green:\n",
    "        print(\"It's a pea.\")\n",
    "    else:\n",
    "        print(\"It's a cherry.\")\n",
    "else:\n",
    "    if green:\n",
    "        print(\"It's a watermelon.\")\n",
    "    else:\n",
    "        print(\"It's a pumpkin.\")"
   ]
  },
  {
   "cell_type": "code",
   "execution_count": 14,
   "id": "b82198da-6f6f-4562-8458-e871f4956583",
   "metadata": {},
   "outputs": [
    {
     "name": "stdout",
     "output_type": "stream",
     "text": [
      "3\n",
      "2\n",
      "1\n",
      "0\n"
     ]
    }
   ],
   "source": [
    "# 6.1\n",
    "for x in range(3, -1, -1):\n",
    "    print(x)"
   ]
  },
  {
   "cell_type": "code",
   "execution_count": 22,
   "id": "672c7744-32a1-41cb-a38c-b9d7e5581bfb",
   "metadata": {},
   "outputs": [
    {
     "name": "stdout",
     "output_type": "stream",
     "text": [
      "too low\n",
      "too low\n",
      "too low\n",
      "too low\n",
      "too low\n",
      "too low\n",
      "found it!\n"
     ]
    }
   ],
   "source": [
    "# 6.2\n",
    "guess_me = 7\n",
    "number = 1\n",
    "while (True):\n",
    "    if (number < guess_me):\n",
    "        print(\"too low\")\n",
    "    elif(number == guess_me):\n",
    "        print(\"found it!\")\n",
    "        break\n",
    "    else:\n",
    "        print(\"oops\")\n",
    "        break\n",
    "    number+=1"
   ]
  },
  {
   "cell_type": "code",
   "execution_count": 26,
   "id": "b57a62cc-fc02-4c93-89da-949ad7077d93",
   "metadata": {},
   "outputs": [
    {
     "name": "stdout",
     "output_type": "stream",
     "text": [
      "too low\n",
      "too low\n",
      "too low\n",
      "too low\n",
      "too low\n",
      "too low\n",
      "too low\n",
      "found it!\n"
     ]
    }
   ],
   "source": [
    "# 6.3\n",
    "guess_me = 7\n",
    "for number in range(10):\n",
    "    if number < guess_me:\n",
    "        print(\"too low\")\n",
    "    elif (number == guess_me):\n",
    "        print(\"found it!\")\n",
    "        break\n",
    "    else:\n",
    "        print(\"oops\")\n",
    "        break"
   ]
  },
  {
   "cell_type": "code",
   "execution_count": null,
   "id": "707176d2-a1e4-4140-81b3-a431e48fff46",
   "metadata": {},
   "outputs": [],
   "source": []
  }
 ],
 "metadata": {
  "kernelspec": {
   "display_name": "Python [conda env:base] *",
   "language": "python",
   "name": "conda-base-py"
  },
  "language_info": {
   "codemirror_mode": {
    "name": "ipython",
    "version": 3
   },
   "file_extension": ".py",
   "mimetype": "text/x-python",
   "name": "python",
   "nbconvert_exporter": "python",
   "pygments_lexer": "ipython3",
   "version": "3.12.7"
  }
 },
 "nbformat": 4,
 "nbformat_minor": 5
}
