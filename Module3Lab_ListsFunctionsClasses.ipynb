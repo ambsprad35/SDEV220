{
 "cells": [
  {
   "cell_type": "code",
   "execution_count": 17,
   "id": "3530eb0a-9ffe-4cff-b062-6fbcb403a1cd",
   "metadata": {},
   "outputs": [
    {
     "name": "stdin",
     "output_type": "stream",
     "text": [
      "Enter the type of vehicle:  SUV\n",
      "Enter the year of the vehicle:  2019\n",
      "Enter the make of the vehicle:  Nissan\n",
      "Enter the model of the vehicle:  Kicks\n",
      "Enter the number of doors:  4\n",
      "Enter the type of roof:  solid\n"
     ]
    },
    {
     "name": "stdout",
     "output_type": "stream",
     "text": [
      "Vehicle Type :  car\n",
      "Year :  2019\n",
      "Make :  Nissan\n",
      "Model :  Kicks\n",
      "Number of doors :  4\n",
      "Type of roof :  solid\n"
     ]
    }
   ],
   "source": [
    "\"\"\"\n",
    "Author: Amber Spradley\n",
    "App Name: Vehicle Description\n",
    "This app takes the information of a vehicle such as type (car, truck, suv), year, make, model, \n",
    "number of doors and the type of roof. The classes Vehicle and Automobile are used to store the\n",
    "input from the user.  The class Automobile contains a method that diplays the car information \n",
    "back to the user. \n",
    "\"\"\"\n",
    "\n",
    "class Vehicle():\n",
    "    def __init__(self, carType):\n",
    "        self.carType = \"car\"\n",
    "\n",
    "class Automobile(Vehicle):\n",
    "    def __init__(self, carType, year, make, model, doors, roof):\n",
    "        super().__init__(carType)\n",
    "        self.year = year\n",
    "        self.make = make\n",
    "        self.model = model\n",
    "        self.doors = doors\n",
    "        self.roof = roof\n",
    "    def displayInfo(self):\n",
    "        carInfo = {\"Vehicle Type\": self.carType,\n",
    "                 \"Year\": self.year,\n",
    "                 \"Make\": self.make,\n",
    "                 \"Model\": self.model,\n",
    "                 \"Number of doors\": self.doors,\n",
    "                 \"Type of roof\": self.roof\n",
    "                }\n",
    "        for label, contents in carInfo.items():\n",
    "            print(label, \": \", contents)\n",
    "\n",
    "carType = input(\"Enter the type of vehicle: \")\n",
    "carYear = input(\"Enter the year of the vehicle: \")\n",
    "carMake = input(\"Enter the make of the vehicle: \")\n",
    "carModel = input(\"Enter the model of the vehicle: \")\n",
    "carDoors = input(\"Enter the number of doors: \")\n",
    "carRoof = input(\"Enter the type of roof: \")\n",
    "\n",
    "newCar = Automobile(carType, carYear, carMake, carModel, carDoors, carRoof)\n",
    "newCar.displayInfo()\n",
    "\n",
    "\n",
    "\n",
    "\n",
    "\n"
   ]
  },
  {
   "cell_type": "code",
   "execution_count": null,
   "id": "00507a46-dc46-4db0-b253-9107332a6d2b",
   "metadata": {},
   "outputs": [],
   "source": []
  }
 ],
 "metadata": {
  "kernelspec": {
   "display_name": "Python [conda env:base] *",
   "language": "python",
   "name": "conda-base-py"
  },
  "language_info": {
   "codemirror_mode": {
    "name": "ipython",
    "version": 3
   },
   "file_extension": ".py",
   "mimetype": "text/x-python",
   "name": "python",
   "nbconvert_exporter": "python",
   "pygments_lexer": "ipython3",
   "version": "3.12.7"
  }
 },
 "nbformat": 4,
 "nbformat_minor": 5
}
