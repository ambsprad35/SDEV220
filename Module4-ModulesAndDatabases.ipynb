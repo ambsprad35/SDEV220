{
 "cells": [
  {
   "cell_type": "code",
   "execution_count": 2,
   "id": "12232ed4-b95f-435a-a16d-aeab32d9bef2",
   "metadata": {},
   "outputs": [
    {
     "name": "stdout",
     "output_type": "stream",
     "text": [
      "Open 9 to 5 daily\n"
     ]
    }
   ],
   "source": [
    "\"11.1 - Import a file saved as zoo.py and call its function hours().\"\n",
    "\"The function prints the string Open 9 to 5 daily.\"\n",
    "import zoo\n",
    "zoo.hours()"
   ]
  },
  {
   "cell_type": "code",
   "execution_count": 4,
   "id": "c4d0ec30-7853-4cb5-b4a6-d19d1eeb8195",
   "metadata": {},
   "outputs": [
    {
     "name": "stdout",
     "output_type": "stream",
     "text": [
      "Open 9 to 5 daily\n"
     ]
    }
   ],
   "source": [
    "\"11.2 - Import the same zoo.py fiile as menagerie and call its hours function.\"\n",
    "import zoo as menagerie\n",
    "menagerie.hours()"
   ]
  },
  {
   "cell_type": "code",
   "execution_count": 18,
   "id": "4eabd695-acdd-4b31-8e15-9a8792798a79",
   "metadata": {},
   "outputs": [],
   "source": [
    "\"16.1 - Save the fowllowing lines to a file called book.csv.\"\n",
    "import csv\n",
    "data = [\n",
    "    {'author': 'J R R Tolkien', 'book': 'The Hobbit'},\n",
    "    {'author': 'Lynne Truss', 'book': '\"Eats, Shoots, & Leaves\"'}\n",
    "]\n",
    "with open('books.csv', 'wt') as fout:\n",
    "    cout = csv.DictWriter(fout, ['author', 'book'])\n",
    "    cout.writeheader()\n",
    "    cout.writerows(data)"
   ]
  },
  {
   "cell_type": "code",
   "execution_count": 20,
   "id": "5b8de104-1e22-4611-a711-de2f99ff90ba",
   "metadata": {},
   "outputs": [
    {
     "name": "stdout",
     "output_type": "stream",
     "text": [
      "[{'author': 'J R R Tolkien', 'book': 'The Hobbit'}, {'author': 'Lynne Truss', 'book': '\"Eats, Shoots, & Leaves\"'}]\n"
     ]
    }
   ],
   "source": [
    "\"16.2 - Use DictReader to read the contents of the books.csv file into the variable books.\"\n",
    "\"Print the values of books.\"\n",
    "import csv\n",
    "with open('books.csv', 'rt') as fin:\n",
    "    cin = csv.DictReader(fin)\n",
    "    books = [row for row in cin]\n",
    "\n",
    "print(books) \"Yes, the quotes and commas were handled by DictReader.\""
   ]
  },
  {
   "cell_type": "code",
   "execution_count": 22,
   "id": "a16bebf5-a6b4-4af2-a8af-a1ebade3c832",
   "metadata": {},
   "outputs": [],
   "source": [
    "\"16.3 - Create a csv file, books2.csv, with the listed data.\"\n",
    "data2 = [\n",
    "    {'title': 'The Weirdstone of Brisingamen', 'author': 'Alan Garner', 'year': 1960},\n",
    "    {'title': 'Perdido Street Station', 'author': 'China Mieville', 'year': 2000},\n",
    "    {'title': 'Thud!', 'author': 'Terry Pratchett', 'year': 2005},\n",
    "    {'title': 'The Spellamn Files', 'author': 'Lisa Lutz', 'year': 2007},\n",
    "    {'title': 'Small Gods', 'author': 'Terry Pratchett', 'year': 1992}\n",
    "]\n",
    "with open('books2.csv', 'wt') as fout:\n",
    "    cout=csv.DictWriter(fout, ['title', 'author', 'year'])\n",
    "    cout.writeheader()\n",
    "    cout.writerows(data2)\n",
    "                        "
   ]
  },
  {
   "cell_type": "code",
   "execution_count": 10,
   "id": "46922ca0-34b6-4fc5-954c-93d76d5a227d",
   "metadata": {},
   "outputs": [
    {
     "data": {
      "text/plain": [
       "'curs.close()\\nconn.close()'"
      ]
     },
     "execution_count": 10,
     "metadata": {},
     "output_type": "execute_result"
    }
   ],
   "source": [
    "\"16.4 & 16.5 -  Use sqlite3 to create a SQLite database called books.db with the data from 16.3\"\n",
    "import sqlite3\n",
    "conn = sqlite3.connect('books.db')\n",
    "curs = conn.cursor()\n",
    "\n",
    "\"\"\"curs.execute('''CREATE TABLE books\n",
    "(title VARCHAR(50),\n",
    "author VARCHAR(50),\n",
    "year INT)''')\n",
    "\"\"\"\n",
    "\n",
    "ins = 'INSERT INTO books (title, author, year) VALUES(?, ?, ?)'\n",
    "curs.execute(ins, (\"The Weirdstone of Brisingamen\", \"Alan Garner\", 1960))\n",
    "curs.execute(ins, ('Perdido Street Station', 'China Mieville', 2000))\n",
    "curs.execute(ins, ('Thud!', 'Terry Pratchett', 2005))\n",
    "curs.execute(ins, ('The Spellamn Files', 'Lisa Lutz', 2007))\n",
    "curs.execute(ins, ('Small Gods', 'Terry Pratchett', 1992))\n",
    "\"\"\"curs.close()\n",
    "conn.close()\"\"\""
   ]
  },
  {
   "cell_type": "code",
   "execution_count": null,
   "id": "ba9e8977-ffb5-4afe-8294-c6b5edc612ae",
   "metadata": {},
   "outputs": [],
   "source": []
  },
  {
   "cell_type": "code",
   "execution_count": null,
   "id": "8c87e634-7a7a-42b1-b308-a942b50c12e3",
   "metadata": {},
   "outputs": [],
   "source": []
  },
  {
   "cell_type": "code",
   "execution_count": 4,
   "id": "5d989ad1-5489-4b24-a5ea-8aae0c899932",
   "metadata": {},
   "outputs": [
    {
     "name": "stdout",
     "output_type": "stream",
     "text": [
      "Requirement already satisfied: sqlalchemy in /opt/anaconda3/lib/python3.12/site-packages (2.0.34)\n",
      "Requirement already satisfied: typing-extensions>=4.6.0 in /opt/anaconda3/lib/python3.12/site-packages (from sqlalchemy) (4.11.0)\n",
      "Note: you may need to restart the kernel to use updated packages.\n"
     ]
    }
   ],
   "source": [
    "pip install sqlalchemy"
   ]
  },
  {
   "cell_type": "code",
   "execution_count": 16,
   "id": "652ffe11-81be-4e69-bba6-26616f819ef4",
   "metadata": {},
   "outputs": [],
   "source": [
    "\"16.8 - Use sqlalchemy to connect to the sqlite3 db and print the title column in alphabetical order.\"\n",
    "import sqlalchemy\n",
    "from sqlalchemy import text\n",
    "engine = sqlalchemy.create_engine('sqlite:///books.db')\n",
    "with engine.connect() as conn:\n",
    "    rows = conn.execute(text('select title from books order by title asc'))\n",
    "    for row in rows:\n",
    "        print(row)"
   ]
  },
  {
   "cell_type": "code",
   "execution_count": null,
   "id": "83b748c8-594d-40c1-b9aa-2a06301a0cb9",
   "metadata": {},
   "outputs": [],
   "source": []
  }
 ],
 "metadata": {
  "kernelspec": {
   "display_name": "Python [conda env:base] *",
   "language": "python",
   "name": "conda-base-py"
  },
  "language_info": {
   "codemirror_mode": {
    "name": "ipython",
    "version": 3
   },
   "file_extension": ".py",
   "mimetype": "text/x-python",
   "name": "python",
   "nbconvert_exporter": "python",
   "pygments_lexer": "ipython3",
   "version": "3.12.7"
  }
 },
 "nbformat": 4,
 "nbformat_minor": 5
}
