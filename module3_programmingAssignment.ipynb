{
 "cells": [
  {
   "cell_type": "code",
   "execution_count": 12,
   "id": "c81b92a8-7fa0-472e-8b35-4e71016e5cbc",
   "metadata": {},
   "outputs": [
    {
     "name": "stdout",
     "output_type": "stream",
     "text": [
      "mozarella\n",
      "Cinderella\n",
      "salmonella\n",
      "MOZARELLA\n",
      "Cinderella\n",
      "salmonella\n",
      "MOZARELLA\n",
      "Cinderella\n"
     ]
    }
   ],
   "source": [
    "\"7.4\"\n",
    "things = [\"mozarella\", \"cinderella\", \"salmonella\"]\n",
    "\"7.5 - Yes the element changed.\"\n",
    "things[1]= things[1].capitalize()\n",
    "for thing in things:\n",
    "    print(thing)\n",
    "\"7.6\"\n",
    "things[0] = things[0].upper()\n",
    "for thing in things:\n",
    "    print(thing)\n",
    "\"7.7\"\n",
    "things.pop()\n",
    "for thing in things:\n",
    "    print(thing)"
   ]
  },
  {
   "cell_type": "code",
   "execution_count": 29,
   "id": "0614088e-3b9f-4815-8062-a40f94958416",
   "metadata": {},
   "outputs": [
    {
     "name": "stdout",
     "output_type": "stream",
     "text": [
      "5\n"
     ]
    }
   ],
   "source": [
    "\"9.1\"\n",
    "def good():\n",
    "    return [\"Harry\", \"Ron\", \"Hermione\"]    \n",
    "\n",
    "\"9.2\"\n",
    "def get_odds():\n",
    "    for x in range(1,10):\n",
    "        if x%2 != 0:\n",
    "            yield x\n",
    "\n",
    "count = 1\n",
    "for x in get_odds():\n",
    "    if count==3:\n",
    "        print(x)\n",
    "        break\n",
    "    count+=1\n",
    "    \n",
    "        "
   ]
  },
  {
   "cell_type": "code",
   "execution_count": null,
   "id": "a73bb47b-7102-432b-8141-9edc867615f5",
   "metadata": {},
   "outputs": [],
   "source": []
  },
  {
   "cell_type": "code",
   "execution_count": null,
   "id": "010d0f73-d4ee-4aa2-b639-159f1f236586",
   "metadata": {},
   "outputs": [],
   "source": []
  }
 ],
 "metadata": {
  "kernelspec": {
   "display_name": "Python [conda env:base] *",
   "language": "python",
   "name": "conda-base-py"
  },
  "language_info": {
   "codemirror_mode": {
    "name": "ipython",
    "version": 3
   },
   "file_extension": ".py",
   "mimetype": "text/x-python",
   "name": "python",
   "nbconvert_exporter": "python",
   "pygments_lexer": "ipython3",
   "version": "3.12.7"
  }
 },
 "nbformat": 4,
 "nbformat_minor": 5
}
